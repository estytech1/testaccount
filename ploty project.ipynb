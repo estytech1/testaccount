{
  "cells": [
    {
      "cell_type": "code",
      "execution_count": 1,
      "metadata": {
        "vscode": {
          "languageId": "powershell"
        }
      },
      "outputs": [
        {
          "name": "stdout",
          "output_type": "stream",
          "text": [
            "Requirement already satisfied: setuptools in c:\\users\\hp\\appdata\\local\\programs\\python\\python310\\lib\\site-packages (68.2.2)\n",
            "Note: you may need to restart the kernel to use updated packages.\n"
          ]
        }
      ],
      "source": [
        "pip install setuptools"
      ]
    },
    {
      "cell_type": "code",
      "execution_count": 2,
      "metadata": {
        "vscode": {
          "languageId": "powershell"
        }
      },
      "outputs": [
        {
          "name": "stdout",
          "output_type": "stream",
          "text": [
            "Requirement already satisfied: packaging in c:\\users\\hp\\appdata\\local\\programs\\python\\python310\\lib\\site-packages (23.2)\n",
            "Note: you may need to restart the kernel to use updated packages.\n"
          ]
        }
      ],
      "source": [
        "pip install packaging"
      ]
    },
    {
      "cell_type": "code",
      "execution_count": 3,
      "metadata": {
        "vscode": {
          "languageId": "powershell"
        }
      },
      "outputs": [
        {
          "name": "stdout",
          "output_type": "stream",
          "text": [
            "Requirement already satisfied: pandas in c:\\users\\hp\\appdata\\local\\programs\\python\\python310\\lib\\site-packages (2.1.2)Note: you may need to restart the kernel to use updated packages.\n",
            "\n",
            "Requirement already satisfied: dash in c:\\users\\hp\\appdata\\local\\programs\\python\\python310\\lib\\site-packages (2.14.1)\n",
            "Requirement already satisfied: numpy<2,>=1.22.4 in c:\\users\\hp\\appdata\\local\\programs\\python\\python310\\lib\\site-packages (from pandas) (1.26.1)\n",
            "Requirement already satisfied: python-dateutil>=2.8.2 in c:\\users\\hp\\appdata\\local\\programs\\python\\python310\\lib\\site-packages (from pandas) (2.8.2)\n",
            "Requirement already satisfied: pytz>=2020.1 in c:\\users\\hp\\appdata\\local\\programs\\python\\python310\\lib\\site-packages (from pandas) (2023.3.post1)\n",
            "Requirement already satisfied: tzdata>=2022.1 in c:\\users\\hp\\appdata\\local\\programs\\python\\python310\\lib\\site-packages (from pandas) (2023.3)\n",
            "Requirement already satisfied: Flask<3.1,>=1.0.4 in c:\\users\\hp\\appdata\\local\\programs\\python\\python310\\lib\\site-packages (from dash) (3.0.0)\n",
            "Requirement already satisfied: Werkzeug<3.1 in c:\\users\\hp\\appdata\\local\\programs\\python\\python310\\lib\\site-packages (from dash) (3.0.1)\n",
            "Requirement already satisfied: plotly>=5.0.0 in c:\\users\\hp\\appdata\\local\\programs\\python\\python310\\lib\\site-packages (from dash) (5.18.0)\n",
            "Requirement already satisfied: dash-html-components==2.0.0 in c:\\users\\hp\\appdata\\local\\programs\\python\\python310\\lib\\site-packages (from dash) (2.0.0)\n",
            "Requirement already satisfied: dash-core-components==2.0.0 in c:\\users\\hp\\appdata\\local\\programs\\python\\python310\\lib\\site-packages (from dash) (2.0.0)\n",
            "Requirement already satisfied: dash-table==5.0.0 in c:\\users\\hp\\appdata\\local\\programs\\python\\python310\\lib\\site-packages (from dash) (5.0.0)\n",
            "Requirement already satisfied: typing-extensions>=4.1.1 in c:\\users\\hp\\appdata\\local\\programs\\python\\python310\\lib\\site-packages (from dash) (4.8.0)\n",
            "Requirement already satisfied: requests in c:\\users\\hp\\appdata\\local\\programs\\python\\python310\\lib\\site-packages (from dash) (2.31.0)\n",
            "Requirement already satisfied: retrying in c:\\users\\hp\\appdata\\local\\programs\\python\\python310\\lib\\site-packages (from dash) (1.3.4)\n",
            "Requirement already satisfied: ansi2html in c:\\users\\hp\\appdata\\local\\programs\\python\\python310\\lib\\site-packages (from dash) (1.8.0)\n",
            "Requirement already satisfied: nest-asyncio in c:\\users\\hp\\appdata\\local\\programs\\python\\python310\\lib\\site-packages (from dash) (1.5.8)\n",
            "Requirement already satisfied: setuptools in c:\\users\\hp\\appdata\\local\\programs\\python\\python310\\lib\\site-packages (from dash) (68.2.2)\n",
            "Requirement already satisfied: importlib-metadata in c:\\users\\hp\\appdata\\local\\programs\\python\\python310\\lib\\site-packages (from dash) (6.8.0)\n",
            "Requirement already satisfied: Jinja2>=3.1.2 in c:\\users\\hp\\appdata\\local\\programs\\python\\python310\\lib\\site-packages (from Flask<3.1,>=1.0.4->dash) (3.1.2)\n",
            "Requirement already satisfied: itsdangerous>=2.1.2 in c:\\users\\hp\\appdata\\local\\programs\\python\\python310\\lib\\site-packages (from Flask<3.1,>=1.0.4->dash) (2.1.2)\n",
            "Requirement already satisfied: click>=8.1.3 in c:\\users\\hp\\appdata\\roaming\\python\\python310\\site-packages (from Flask<3.1,>=1.0.4->dash) (8.1.7)\n",
            "Requirement already satisfied: blinker>=1.6.2 in c:\\users\\hp\\appdata\\local\\programs\\python\\python310\\lib\\site-packages (from Flask<3.1,>=1.0.4->dash) (1.7.0)\n",
            "Requirement already satisfied: tenacity>=6.2.0 in c:\\users\\hp\\appdata\\local\\programs\\python\\python310\\lib\\site-packages (from plotly>=5.0.0->dash) (8.2.3)\n",
            "Requirement already satisfied: packaging in c:\\users\\hp\\appdata\\local\\programs\\python\\python310\\lib\\site-packages (from plotly>=5.0.0->dash) (23.2)\n",
            "Requirement already satisfied: six>=1.5 in c:\\users\\hp\\appdata\\local\\programs\\python\\python310\\lib\\site-packages (from python-dateutil>=2.8.2->pandas) (1.16.0)\n",
            "Requirement already satisfied: MarkupSafe>=2.1.1 in c:\\users\\hp\\appdata\\local\\programs\\python\\python310\\lib\\site-packages (from Werkzeug<3.1->dash) (2.1.3)\n",
            "Requirement already satisfied: zipp>=0.5 in c:\\users\\hp\\appdata\\local\\programs\\python\\python310\\lib\\site-packages (from importlib-metadata->dash) (3.17.0)\n",
            "Requirement already satisfied: charset-normalizer<4,>=2 in c:\\users\\hp\\appdata\\local\\programs\\python\\python310\\lib\\site-packages (from requests->dash) (3.3.0)\n",
            "Requirement already satisfied: idna<4,>=2.5 in c:\\users\\hp\\appdata\\local\\programs\\python\\python310\\lib\\site-packages (from requests->dash) (3.4)\n",
            "Requirement already satisfied: urllib3<3,>=1.21.1 in c:\\users\\hp\\appdata\\local\\programs\\python\\python310\\lib\\site-packages (from requests->dash) (2.0.7)\n",
            "Requirement already satisfied: certifi>=2017.4.17 in c:\\users\\hp\\appdata\\local\\programs\\python\\python310\\lib\\site-packages (from requests->dash) (2023.7.22)\n",
            "Requirement already satisfied: colorama in c:\\users\\hp\\appdata\\local\\programs\\python\\python310\\lib\\site-packages (from click>=8.1.3->Flask<3.1,>=1.0.4->dash) (0.4.6)\n"
          ]
        }
      ],
      "source": [
        "pip install pandas dash"
      ]
    },
    {
      "cell_type": "code",
      "execution_count": 4,
      "metadata": {},
      "outputs": [],
      "source": [
        "import dash\n",
        "from dash import dcc\n",
        "from dash import html\n",
        "from dash.dependencies import Input, Output\n",
        "import pandas as pd\n",
        "import plotly.graph_objs as go\n",
        "import plotly.express as px"
      ]
    },
    {
      "cell_type": "code",
      "execution_count": 5,
      "metadata": {
        "colab": {
          "base_uri": "https://localhost:8080/",
          "height": 672
        },
        "id": "zTI09Vc7NEE7",
        "outputId": "823ebb36-ec5e-4805-e8c7-bca358b56b24"
      },
      "outputs": [
        {
          "data": {
            "text/html": [
              "\n",
              "        <iframe\n",
              "            width=\"100%\"\n",
              "            height=\"650\"\n",
              "            src=\"http://127.0.0.1:5500/\"\n",
              "            frameborder=\"0\"\n",
              "            allowfullscreen\n",
              "            \n",
              "        ></iframe>\n",
              "        "
            ],
            "text/plain": [
              "<IPython.lib.display.IFrame at 0x2e38fc51930>"
            ]
          },
          "metadata": {},
          "output_type": "display_data"
        },
        {
          "name": "stderr",
          "output_type": "stream",
          "text": [
            "[2023-12-13 00:50:19,061] ERROR in app: Exception on /_dash-update-component [POST]\n",
            "Traceback (most recent call last):\n",
            "  File \"c:\\Users\\HP\\AppData\\Local\\Programs\\Python\\Python310\\lib\\site-packages\\flask\\app.py\", line 1455, in wsgi_app\n",
            "    response = self.full_dispatch_request()\n",
            "  File \"c:\\Users\\HP\\AppData\\Local\\Programs\\Python\\Python310\\lib\\site-packages\\flask\\app.py\", line 869, in full_dispatch_request\n",
            "    rv = self.handle_user_exception(e)\n",
            "  File \"c:\\Users\\HP\\AppData\\Local\\Programs\\Python\\Python310\\lib\\site-packages\\flask\\app.py\", line 867, in full_dispatch_request\n",
            "    rv = self.dispatch_request()\n",
            "  File \"c:\\Users\\HP\\AppData\\Local\\Programs\\Python\\Python310\\lib\\site-packages\\flask\\app.py\", line 852, in dispatch_request\n",
            "    return self.ensure_sync(self.view_functions[rule.endpoint])(**view_args)\n",
            "  File \"c:\\Users\\HP\\AppData\\Local\\Programs\\Python\\Python310\\lib\\site-packages\\dash\\dash.py\", line 1310, in dispatch\n",
            "    ctx.run(\n",
            "  File \"c:\\Users\\HP\\AppData\\Local\\Programs\\Python\\Python310\\lib\\site-packages\\dash\\_callback.py\", line 457, in add_context\n",
            "    flat_output_values = flatten_grouping(output_value, output)\n",
            "  File \"c:\\Users\\HP\\AppData\\Local\\Programs\\Python\\Python310\\lib\\site-packages\\dash\\_grouping.py\", line 35, in flatten_grouping\n",
            "    validate_grouping(grouping, schema)\n",
            "  File \"c:\\Users\\HP\\AppData\\Local\\Programs\\Python\\Python310\\lib\\site-packages\\dash\\_grouping.py\", line 210, in validate_grouping\n",
            "    SchemaTypeValidationError.check(grouping, full_schema, path, (tuple, list))\n",
            "  File \"c:\\Users\\HP\\AppData\\Local\\Programs\\Python\\Python310\\lib\\site-packages\\dash\\_grouping.py\", line 162, in check\n",
            "    raise SchemaTypeValidationError(value, full_schema, path, expected_type)\n",
            "dash._grouping.SchemaTypeValidationError: Schema: [<Output `output-container1.children`>, <Output `output-container2.children`>]\n",
            "Path: ()\n",
            "Expected type: (<class 'tuple'>, <class 'list'>)\n",
            "Received value of type <class 'NoneType'>:\n",
            "    None\n",
            "[2023-12-13 00:56:09,583] ERROR in app: Exception on /_dash-update-component [POST]\n",
            "Traceback (most recent call last):\n",
            "  File \"c:\\Users\\HP\\AppData\\Local\\Programs\\Python\\Python310\\lib\\site-packages\\flask\\app.py\", line 1455, in wsgi_app\n",
            "    response = self.full_dispatch_request()\n",
            "  File \"c:\\Users\\HP\\AppData\\Local\\Programs\\Python\\Python310\\lib\\site-packages\\flask\\app.py\", line 869, in full_dispatch_request\n",
            "    rv = self.handle_user_exception(e)\n",
            "  File \"c:\\Users\\HP\\AppData\\Local\\Programs\\Python\\Python310\\lib\\site-packages\\flask\\app.py\", line 867, in full_dispatch_request\n",
            "    rv = self.dispatch_request()\n",
            "  File \"c:\\Users\\HP\\AppData\\Local\\Programs\\Python\\Python310\\lib\\site-packages\\flask\\app.py\", line 852, in dispatch_request\n",
            "    return self.ensure_sync(self.view_functions[rule.endpoint])(**view_args)\n",
            "  File \"c:\\Users\\HP\\AppData\\Local\\Programs\\Python\\Python310\\lib\\site-packages\\dash\\dash.py\", line 1310, in dispatch\n",
            "    ctx.run(\n",
            "  File \"c:\\Users\\HP\\AppData\\Local\\Programs\\Python\\Python310\\lib\\site-packages\\dash\\_callback.py\", line 457, in add_context\n",
            "    flat_output_values = flatten_grouping(output_value, output)\n",
            "  File \"c:\\Users\\HP\\AppData\\Local\\Programs\\Python\\Python310\\lib\\site-packages\\dash\\_grouping.py\", line 35, in flatten_grouping\n",
            "    validate_grouping(grouping, schema)\n",
            "  File \"c:\\Users\\HP\\AppData\\Local\\Programs\\Python\\Python310\\lib\\site-packages\\dash\\_grouping.py\", line 210, in validate_grouping\n",
            "    SchemaTypeValidationError.check(grouping, full_schema, path, (tuple, list))\n",
            "  File \"c:\\Users\\HP\\AppData\\Local\\Programs\\Python\\Python310\\lib\\site-packages\\dash\\_grouping.py\", line 162, in check\n",
            "    raise SchemaTypeValidationError(value, full_schema, path, expected_type)\n",
            "dash._grouping.SchemaTypeValidationError: Schema: [<Output `output-container1.children`>, <Output `output-container2.children`>]\n",
            "Path: ()\n",
            "Expected type: (<class 'tuple'>, <class 'list'>)\n",
            "Received value of type <class 'NoneType'>:\n",
            "    None\n"
          ]
        }
      ],
      "source": [
        "# Load the data using pandas\n",
        "data = pd.read_csv('https://cf-courses-data.s3.us.cloud-object-storage.appdomain.cloud/IBMDeveloperSkillsNetwork-DV0101EN-SkillsNetwork/Data%20Files/historical_automobile_sales.csv')\n",
        "\n",
        "# Initialize the Dash app\n",
        "app = dash.Dash(__name__)\n",
        "\n",
        "#---------------------------------------------------------------------------------\n",
        "# Create the dropdown menu options\n",
        "dropdown_options = [\n",
        "    {'label': 'Yearly Statistics', 'value': 'Yearly Statistics'},\n",
        "    {'label': 'Recession Period Statistics', 'value': 'Recession Period Statistics'}\n",
        "]\n",
        "# List of years\n",
        "year_list = [i for i in range(1980, 2024, 1)]\n",
        "\n",
        "#---------------------------------------------------------------------------------------\n",
        "# Create the layout of the app\n",
        "app.layout = html.Div([\n",
        "    #TASK 2.1 Add title to the dashboard\n",
        "    html.H1(\"Automobile Sales Statistics Dashboard\",\n",
        "        style={'textAlign': 'center',\n",
        "        'color': '#503D36', 'font-size': 24})\n",
        "    ,\n",
        "    #May include style for title\n",
        "    html.Div([#TASK 2.2: Add two dropdown menus\n",
        "        html.Label(\"Select Statistics:\"),\n",
        "        dcc.Dropdown(\n",
        "            id='dropdown-statistics',\n",
        "            options=dropdown_options,\n",
        "            value='Select Statistics',\n",
        "            placeholder='Select a Report Type'\n",
        "        )\n",
        "    ]),\n",
        "    html.Div(dcc.Dropdown(\n",
        "            id='select-year',\n",
        "            options=[{'label': i, 'value': i} for i in year_list],\n",
        "            value='Select Year',\n",
        "            placeholder='Select the Year'\n",
        "        )),\n",
        "    html.Div([#TASK 2.3: Add a division for output display\n",
        "              html.Div(id='output-container1', className='chart-item', style={'display': 'flex'}),\n",
        "              html.Div(id='output-container2', className='chart-item', style={'display': 'flex'})\n",
        "              ])\n",
        "])\n",
        "\n",
        "#TASK 2.4: Creating Callbacks\n",
        "# Define the callback function to update the input container based on the selected statistics\n",
        "@app.callback(\n",
        "    [Output(component_id='select-year', component_property='disabled'), Output(component_id='select-year', component_property='value')],\n",
        "    Input(component_id='dropdown-statistics',component_property='value'))\n",
        "\n",
        "def update_input_container(input):\n",
        "    if input =='Yearly Statistics':\n",
        "        return [False,'']\n",
        "    else:\n",
        "        return [True,'']\n",
        "\n",
        "#Callback for plotting\n",
        "# Define the callback function to update the input container based on the selected statistics\n",
        "@app.callback(\n",
        "    [Output(component_id='output-container1', component_property='children'), Output(component_id='output-container2', component_property='children')],\n",
        "    [Input(component_id='dropdown-statistics', component_property='value'), Input(component_id='select-year', component_property='value')])\n",
        "\n",
        "def update_output_container(report, input_year):\n",
        "    ### Yearly Statistic Report Plots\n",
        "    if(report=='Yearly Statistics'):\n",
        "        # Filter the data for selected year\n",
        "        yearly_data = data[data['Year'] == input_year]\n",
        "        g1, g2, g3, g4 = getGraphYearly(yearly_data, input_year)\n",
        "\n",
        "        #TASK 2.5: Returning the graphs for display\n",
        "        return displayGraphs(g1, g2, g3, g4)\n",
        "\n",
        "    ### Recession period report Plots\n",
        "    elif(report=='Recession Period Statistics'):\n",
        "        # Filter the data for recession periods\n",
        "        recession_data = data[data['Recession'] == 1]\n",
        "        g1, g2, g3, g4 = getGraphRec(recession_data)\n",
        "\n",
        "        #TASK 2.6: Returning the graphs for display\n",
        "        return displayGraphs(g1, g2, g3, g4)\n",
        "\n",
        "def displayGraphs(g1, g2, g3, g4):\n",
        "  return[\n",
        "            html.Div(className='chart-item', children=[html.Div(children=g1),html.Div(children=g2)], style={'display': 'flex'}),\n",
        "            html.Div(className='chart-item', children=[html.Div(children=g3),html.Div(children=g4)], style={'display': 'flex'})\n",
        "        ]\n",
        "\n",
        "def getGraphYearly(yearly_data, input_year):\n",
        "  ## Plot 1: Yearly Automobile sales using line chart for the whole period.\n",
        "  # grouping data for plotting\n",
        "  yas = data.groupby('Year')['Automobile_Sales'].mean().reset_index()\n",
        "  # Plotting the line graph\n",
        "  Yearly_chart1 = dcc.Graph(figure=px.line(yas, x='Year', y='Automobile_Sales', title='Mean Automobile sales for the Whole Period'))\n",
        "\n",
        "  ## Plot 2 Total Monthly Automobile sales using line chart.\n",
        "  # grouping data for plotting\n",
        "  yts= yearly_data.groupby('Month')['Automobile_Sales'].sum().reset_index()\n",
        "  # Ordering Months for Plotting\n",
        "  ordered_months = [\"Jan\", \"Feb\", \"Mar\", \"Apr\", \"May\", \"Jun\", \"Jul\", \"Aug\", \"Sep\", \"Oct\", \"Nov\", \"Dec\"]\n",
        "  yts['Month'] = pd.Categorical(yts['Month'], categories=ordered_months, ordered=True)\n",
        "  yts['to_sort']=yts['Month'].apply(lambda x:ordered_months.index(x))\n",
        "  yts = yts.sort_values('to_sort')\n",
        "  # Plotting the line graph\n",
        "  Yearly_chart2 = dcc.Graph(figure=px.line(yts, x='Month', y='Automobile_Sales', title='Total Monthly Automobile Sales in the year {}'.format(input_year)))\n",
        "\n",
        "  # Plot bar chart for average number of vehicles sold during the given year\n",
        "  # grouping data for plotting\n",
        "  avr_vdata=yearly_data.groupby('Vehicle_Type')['Automobile_Sales'].mean().reset_index()\n",
        "  # Plotting the Bar graph\n",
        "  Yearly_chart3 = dcc.Graph(figure=px.bar(avr_vdata, x='Vehicle_Type', y='Automobile_Sales',title='Average Vehicles Sold by Vehicle Type in the year {}'.format(input_year)))\n",
        "\n",
        "  # Total Advertisement Expenditure for each vehicle using pie chart\n",
        "  # grouping data for plotting\n",
        "  exp_data=yearly_data.groupby('Vehicle_Type')['Advertising_Expenditure'].sum().reset_index()\n",
        "  # Plotting the Pie graph\n",
        "  Yearly_chart4 = dcc.Graph(figure=px.pie(exp_data, values='Advertising_Expenditure', names='Vehicle_Type',\n",
        "                                      title=\"Total Expenditure share by Vehicle Type in the year {}\".format(input_year)))\n",
        "\n",
        "  return [Yearly_chart1, Yearly_chart2, Yearly_chart3, Yearly_chart4]\n",
        "\n",
        "def getGraphRec(recession_data):\n",
        "  ## Plot 1: Automobile sales fluctuate over Recession Period (year wise)\n",
        "  # grouping data for plotting\n",
        "  yearly_rec=recession_data.groupby('Year')['Automobile_Sales'].mean().reset_index()\n",
        "  # Plotting the line graph\n",
        "  Rec_chart1 = dcc.Graph(figure=px.line(yearly_rec, x='Year', y='Automobile_Sales', title=\"Automobile sales fluctuation over Recession Period\"))\n",
        "\n",
        "  ## Plot 2: Calculate the average number of vehicles sold by vehicle type\n",
        "  # grouping data for plotting\n",
        "  average_sales = recession_data.groupby('Vehicle_Type')['Automobile_Sales'].mean().reset_index()\n",
        "  # Plotting the line graph\n",
        "  Rec_chart2  = dcc.Graph(figure=px.line(average_sales, x='Vehicle_Type', y='Automobile_Sales', title=\"Average Vehicles Sold by Vehicle Type during Recession\"))\n",
        "\n",
        "  ## Plot 3: Pie chart for total expenditure share by vehicle type during recessions\n",
        "  # grouping data for plotting\n",
        "  exp_rec= recession_data.groupby('Vehicle_Type')['Advertising_Expenditure'].sum().reset_index()\n",
        "  # Plotting the Pie graph\n",
        "  Rec_chart3 = dcc.Graph(figure=px.pie(exp_rec, values='Advertising_Expenditure', names='Vehicle_Type', title=\"Total Expenditure by Vehicle Type during Recessions\"))\n",
        "\n",
        "  ## Plot 4: Bar chart for the effect of unemployment rate on vehicle type and sales\n",
        "  # grouping data for plotting\n",
        "  unemp_rec= recession_data.groupby(['Vehicle_Type', 'Automobile_Sales'])['unemployment_rate'].mean().reset_index()\n",
        "  # Plotting the Bar graph\n",
        "  Rec_chart4 = dcc.Graph(figure=px.bar(unemp_rec, x='Vehicle_Type', y='unemployment_rate', color='Automobile_Sales',\n",
        "                                    title='Effect of Unemployment Rate on Vehicle Type and Sales during Recession'))\n",
        "\n",
        "  return [Rec_chart1, Rec_chart2, Rec_chart3, Rec_chart4]\n",
        "\n",
        "if __name__ == '__main__':\n",
        "    app.run_server(port=5500)"
      ]
    },
    {
      "cell_type": "code",
      "execution_count": null,
      "metadata": {
        "id": "exKDmFS_DuKk"
      },
      "outputs": [],
      "source": []
    }
  ],
  "metadata": {
    "colab": {
      "provenance": []
    },
    "kernelspec": {
      "display_name": ".venv",
      "language": "python",
      "name": "python3"
    },
    "language_info": {
      "codemirror_mode": {
        "name": "ipython",
        "version": 3
      },
      "file_extension": ".py",
      "mimetype": "text/x-python",
      "name": "python",
      "nbconvert_exporter": "python",
      "pygments_lexer": "ipython3",
      "version": "3.10.2"
    }
  },
  "nbformat": 4,
  "nbformat_minor": 0
}
