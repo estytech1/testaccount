{
 "cells": [
  {
   "cell_type": "markdown",
   "id": "085f6b2e",
   "metadata": {},
   "source": [
    "In this notebook, Data Science Tools and Ecosystem are summarized."
   ]
  },
  {
   "cell_type": "markdown",
   "id": "82ab3ba2",
   "metadata": {},
   "source": [
    "Some of the popular languages that Data Scientists use are:\n",
    "\n",
    "<ol>\n",
    "<li>Python</li>\n",
    "<li>R</li>\n",
    "<li>Scala</li>\n",
    "<li>SQL</li>    \n",
    "<li>Java</li>  \n",
    "<li>C/C++</li>  \n",
    "<li>Javascript</li> \n",
    "<li>Excel</li>  \n",
    "</ol>"
   ]
  },
  {
   "cell_type": "markdown",
   "id": "ed4784dc",
   "metadata": {},
   "source": [
    "Some of the commonly used libraries used by Data Scientists include:\n",
    "    \n",
    "<ol>\n",
    "<li>NumPy</li>\n",
    "<li>Keras</li>\n",
    "<li>Pandas</li>\n",
    "<li>SciPy</li>    \n",
    "<li>Scikit-Learn</li>  \n",
    "<li>TenserFlow</li>  \n",
    "<li>Matplotlib</li> \n",
    "</ol>"
   ]
  },
  {
   "cell_type": "markdown",
   "id": "bbfceca5",
   "metadata": {},
   "source": [
    "## Execute as a markdown cell\n",
    "\n",
    " |Header | Data Science Tools|\n",
    " |-------| ------------------|\n",
    " | 1     | RStudio| \n",
    " | 2     | Apache Spark|\n",
    " | 3     | Apache Hadoop|"
   ]
  },
  {
   "cell_type": "markdown",
   "id": "870762e3",
   "metadata": {},
   "source": [
    "### Below are a few examples of evaluating arithmetic expressions in Python :"
   ]
  },
  {
   "cell_type": "code",
   "execution_count": 3,
   "id": "b0994102",
   "metadata": {},
   "outputs": [
    {
     "data": {
      "text/plain": [
       "17"
      ]
     },
     "execution_count": 3,
     "metadata": {},
     "output_type": "execute_result"
    }
   ],
   "source": [
    "# This a simple arithmetic expression to mutiply then add integers.\n",
    "\n",
    "(3*4)+5"
   ]
  },
  {
   "cell_type": "code",
   "execution_count": 2,
   "id": "2e74cc68",
   "metadata": {},
   "outputs": [
    {
     "name": "stdout",
     "output_type": "stream",
     "text": [
      "3.3333333333333335\n"
     ]
    }
   ],
   "source": [
    "# This will convert 200 minutes to hours by dividing by 60\n",
    "minutes = 200\n",
    "hours = minutes / 60\n",
    "print(hours)"
   ]
  },
  {
   "cell_type": "markdown",
   "id": "fddf6ace",
   "metadata": {},
   "source": [
    "**Objectives:**\n",
    "    \n",
    " *List popular languages for Data Science\n",
    " * Data Science Tools and Ecosystem are summarized\n",
    " *Commonly used libraries used by Data Scientists \n",
    " *Evaluating arithmetic expressions in Python "
   ]
  },
  {
   "cell_type": "markdown",
   "id": "d47a7817",
   "metadata": {},
   "source": [
    "## Author\n",
    "\n",
    "Esther A."
   ]
  },
  {
   "cell_type": "code",
   "execution_count": null,
   "id": "acbab136",
   "metadata": {},
   "outputs": [],
   "source": []
  },
  {
   "cell_type": "markdown",
   "id": "65b6e4a8",
   "metadata": {},
   "source": []
  }
 ],
 "metadata": {
  "kernelspec": {
   "display_name": "Python 3 (ipykernel)",
   "language": "python",
   "name": "python3"
  },
  "language_info": {
   "codemirror_mode": {
    "name": "ipython",
    "version": 3
   },
   "file_extension": ".py",
   "mimetype": "text/x-python",
   "name": "python",
   "nbconvert_exporter": "python",
   "pygments_lexer": "ipython3",
   "version": "3.9.7"
  }
 },
 "nbformat": 4,
 "nbformat_minor": 5
}
